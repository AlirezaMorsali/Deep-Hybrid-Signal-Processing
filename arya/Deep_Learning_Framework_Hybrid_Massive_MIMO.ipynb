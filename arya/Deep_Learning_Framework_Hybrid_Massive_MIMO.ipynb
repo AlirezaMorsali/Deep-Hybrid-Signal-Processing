{
  "nbformat": 4,
  "nbformat_minor": 0,
  "metadata": {
    "colab": {
      "name": "Deep Learning Framework Hybrid Massive MIMO.ipynb",
      "provenance": [],
      "collapsed_sections": [
        "2Ik1rkuQ_RnB",
        "QO_A1SrdsHf7"
      ]
    },
    "kernelspec": {
      "name": "python3",
      "display_name": "Python 3"
    },
    "language_info": {
      "name": "python"
    },
    "widgets": {
      "application/vnd.jupyter.widget-state+json": {
        "9c798d5ff5b348e79d13c8c5e92794c9": {
          "model_module": "@jupyter-widgets/controls",
          "model_name": "HBoxModel",
          "model_module_version": "1.5.0",
          "state": {
            "_view_name": "HBoxView",
            "_dom_classes": [],
            "_model_name": "HBoxModel",
            "_view_module": "@jupyter-widgets/controls",
            "_model_module_version": "1.5.0",
            "_view_count": null,
            "_view_module_version": "1.5.0",
            "box_style": "",
            "layout": "IPY_MODEL_b41432998e7e466bafb587b189557e16",
            "_model_module": "@jupyter-widgets/controls",
            "children": [
              "IPY_MODEL_5af9ab1c65ce4b10bb2e44d53abd32ba",
              "IPY_MODEL_568f11b5cd814c57a710a0a87761bf5b",
              "IPY_MODEL_b1da6d53dfc04b7facee8f27c237027f"
            ]
          }
        },
        "b41432998e7e466bafb587b189557e16": {
          "model_module": "@jupyter-widgets/base",
          "model_name": "LayoutModel",
          "model_module_version": "1.2.0",
          "state": {
            "_view_name": "LayoutView",
            "grid_template_rows": null,
            "right": null,
            "justify_content": null,
            "_view_module": "@jupyter-widgets/base",
            "overflow": null,
            "_model_module_version": "1.2.0",
            "_view_count": null,
            "flex_flow": null,
            "width": null,
            "min_width": null,
            "border": null,
            "align_items": null,
            "bottom": null,
            "_model_module": "@jupyter-widgets/base",
            "top": null,
            "grid_column": null,
            "overflow_y": null,
            "overflow_x": null,
            "grid_auto_flow": null,
            "grid_area": null,
            "grid_template_columns": null,
            "flex": null,
            "_model_name": "LayoutModel",
            "justify_items": null,
            "grid_row": null,
            "max_height": null,
            "align_content": null,
            "visibility": null,
            "align_self": null,
            "height": null,
            "min_height": null,
            "padding": null,
            "grid_auto_rows": null,
            "grid_gap": null,
            "max_width": null,
            "order": null,
            "_view_module_version": "1.2.0",
            "grid_template_areas": null,
            "object_position": null,
            "object_fit": null,
            "grid_auto_columns": null,
            "margin": null,
            "display": null,
            "left": null
          }
        },
        "5af9ab1c65ce4b10bb2e44d53abd32ba": {
          "model_module": "@jupyter-widgets/controls",
          "model_name": "HTMLModel",
          "model_module_version": "1.5.0",
          "state": {
            "_view_name": "HTMLView",
            "style": "IPY_MODEL_b650aa636211401eb2c8bf3c1fdf278e",
            "_dom_classes": [],
            "description": "",
            "_model_name": "HTMLModel",
            "placeholder": "​",
            "_view_module": "@jupyter-widgets/controls",
            "_model_module_version": "1.5.0",
            "value": "Epoch : 100 / 100 , Training Loss : 0.000011 , Loss : 0.000002: 100%",
            "_view_count": null,
            "_view_module_version": "1.5.0",
            "description_tooltip": null,
            "_model_module": "@jupyter-widgets/controls",
            "layout": "IPY_MODEL_1ab4af69bc7f42ac9bbe262bce198888"
          }
        },
        "568f11b5cd814c57a710a0a87761bf5b": {
          "model_module": "@jupyter-widgets/controls",
          "model_name": "FloatProgressModel",
          "model_module_version": "1.5.0",
          "state": {
            "_view_name": "ProgressView",
            "style": "IPY_MODEL_a706d767e0b8490c983abc4e100d549b",
            "_dom_classes": [],
            "description": "",
            "_model_name": "FloatProgressModel",
            "bar_style": "success",
            "max": 100,
            "_view_module": "@jupyter-widgets/controls",
            "_model_module_version": "1.5.0",
            "value": 100,
            "_view_count": null,
            "_view_module_version": "1.5.0",
            "orientation": "horizontal",
            "min": 0,
            "description_tooltip": null,
            "_model_module": "@jupyter-widgets/controls",
            "layout": "IPY_MODEL_0364dfc715304b2280c001d0fb3c87c0"
          }
        },
        "b1da6d53dfc04b7facee8f27c237027f": {
          "model_module": "@jupyter-widgets/controls",
          "model_name": "HTMLModel",
          "model_module_version": "1.5.0",
          "state": {
            "_view_name": "HTMLView",
            "style": "IPY_MODEL_f9ba61acf06f4fa5a18853a7522f3e53",
            "_dom_classes": [],
            "description": "",
            "_model_name": "HTMLModel",
            "placeholder": "​",
            "_view_module": "@jupyter-widgets/controls",
            "_model_module_version": "1.5.0",
            "value": " 100/100 [28:39&lt;00:00, 15.67s/it]",
            "_view_count": null,
            "_view_module_version": "1.5.0",
            "description_tooltip": null,
            "_model_module": "@jupyter-widgets/controls",
            "layout": "IPY_MODEL_0907f278b8734058a88fab4d6cc1f821"
          }
        },
        "b650aa636211401eb2c8bf3c1fdf278e": {
          "model_module": "@jupyter-widgets/controls",
          "model_name": "DescriptionStyleModel",
          "model_module_version": "1.5.0",
          "state": {
            "_view_name": "StyleView",
            "_model_name": "DescriptionStyleModel",
            "description_width": "",
            "_view_module": "@jupyter-widgets/base",
            "_model_module_version": "1.5.0",
            "_view_count": null,
            "_view_module_version": "1.2.0",
            "_model_module": "@jupyter-widgets/controls"
          }
        },
        "1ab4af69bc7f42ac9bbe262bce198888": {
          "model_module": "@jupyter-widgets/base",
          "model_name": "LayoutModel",
          "model_module_version": "1.2.0",
          "state": {
            "_view_name": "LayoutView",
            "grid_template_rows": null,
            "right": null,
            "justify_content": null,
            "_view_module": "@jupyter-widgets/base",
            "overflow": null,
            "_model_module_version": "1.2.0",
            "_view_count": null,
            "flex_flow": null,
            "width": null,
            "min_width": null,
            "border": null,
            "align_items": null,
            "bottom": null,
            "_model_module": "@jupyter-widgets/base",
            "top": null,
            "grid_column": null,
            "overflow_y": null,
            "overflow_x": null,
            "grid_auto_flow": null,
            "grid_area": null,
            "grid_template_columns": null,
            "flex": null,
            "_model_name": "LayoutModel",
            "justify_items": null,
            "grid_row": null,
            "max_height": null,
            "align_content": null,
            "visibility": null,
            "align_self": null,
            "height": null,
            "min_height": null,
            "padding": null,
            "grid_auto_rows": null,
            "grid_gap": null,
            "max_width": null,
            "order": null,
            "_view_module_version": "1.2.0",
            "grid_template_areas": null,
            "object_position": null,
            "object_fit": null,
            "grid_auto_columns": null,
            "margin": null,
            "display": null,
            "left": null
          }
        },
        "a706d767e0b8490c983abc4e100d549b": {
          "model_module": "@jupyter-widgets/controls",
          "model_name": "ProgressStyleModel",
          "model_module_version": "1.5.0",
          "state": {
            "_view_name": "StyleView",
            "_model_name": "ProgressStyleModel",
            "description_width": "",
            "_view_module": "@jupyter-widgets/base",
            "_model_module_version": "1.5.0",
            "_view_count": null,
            "_view_module_version": "1.2.0",
            "bar_color": null,
            "_model_module": "@jupyter-widgets/controls"
          }
        },
        "0364dfc715304b2280c001d0fb3c87c0": {
          "model_module": "@jupyter-widgets/base",
          "model_name": "LayoutModel",
          "model_module_version": "1.2.0",
          "state": {
            "_view_name": "LayoutView",
            "grid_template_rows": null,
            "right": null,
            "justify_content": null,
            "_view_module": "@jupyter-widgets/base",
            "overflow": null,
            "_model_module_version": "1.2.0",
            "_view_count": null,
            "flex_flow": null,
            "width": null,
            "min_width": null,
            "border": null,
            "align_items": null,
            "bottom": null,
            "_model_module": "@jupyter-widgets/base",
            "top": null,
            "grid_column": null,
            "overflow_y": null,
            "overflow_x": null,
            "grid_auto_flow": null,
            "grid_area": null,
            "grid_template_columns": null,
            "flex": null,
            "_model_name": "LayoutModel",
            "justify_items": null,
            "grid_row": null,
            "max_height": null,
            "align_content": null,
            "visibility": null,
            "align_self": null,
            "height": null,
            "min_height": null,
            "padding": null,
            "grid_auto_rows": null,
            "grid_gap": null,
            "max_width": null,
            "order": null,
            "_view_module_version": "1.2.0",
            "grid_template_areas": null,
            "object_position": null,
            "object_fit": null,
            "grid_auto_columns": null,
            "margin": null,
            "display": null,
            "left": null
          }
        },
        "f9ba61acf06f4fa5a18853a7522f3e53": {
          "model_module": "@jupyter-widgets/controls",
          "model_name": "DescriptionStyleModel",
          "model_module_version": "1.5.0",
          "state": {
            "_view_name": "StyleView",
            "_model_name": "DescriptionStyleModel",
            "description_width": "",
            "_view_module": "@jupyter-widgets/base",
            "_model_module_version": "1.5.0",
            "_view_count": null,
            "_view_module_version": "1.2.0",
            "_model_module": "@jupyter-widgets/controls"
          }
        },
        "0907f278b8734058a88fab4d6cc1f821": {
          "model_module": "@jupyter-widgets/base",
          "model_name": "LayoutModel",
          "model_module_version": "1.2.0",
          "state": {
            "_view_name": "LayoutView",
            "grid_template_rows": null,
            "right": null,
            "justify_content": null,
            "_view_module": "@jupyter-widgets/base",
            "overflow": null,
            "_model_module_version": "1.2.0",
            "_view_count": null,
            "flex_flow": null,
            "width": null,
            "min_width": null,
            "border": null,
            "align_items": null,
            "bottom": null,
            "_model_module": "@jupyter-widgets/base",
            "top": null,
            "grid_column": null,
            "overflow_y": null,
            "overflow_x": null,
            "grid_auto_flow": null,
            "grid_area": null,
            "grid_template_columns": null,
            "flex": null,
            "_model_name": "LayoutModel",
            "justify_items": null,
            "grid_row": null,
            "max_height": null,
            "align_content": null,
            "visibility": null,
            "align_self": null,
            "height": null,
            "min_height": null,
            "padding": null,
            "grid_auto_rows": null,
            "grid_gap": null,
            "max_width": null,
            "order": null,
            "_view_module_version": "1.2.0",
            "grid_template_areas": null,
            "object_position": null,
            "object_fit": null,
            "grid_auto_columns": null,
            "margin": null,
            "display": null,
            "left": null
          }
        },
        "30653aaa235747f39d6a4736c02282b2": {
          "model_module": "@jupyter-widgets/controls",
          "model_name": "HBoxModel",
          "model_module_version": "1.5.0",
          "state": {
            "_view_name": "HBoxView",
            "_dom_classes": [],
            "_model_name": "HBoxModel",
            "_view_module": "@jupyter-widgets/controls",
            "_model_module_version": "1.5.0",
            "_view_count": null,
            "_view_module_version": "1.5.0",
            "box_style": "",
            "layout": "IPY_MODEL_4ee2628c08c543eeb83239abf7d18712",
            "_model_module": "@jupyter-widgets/controls",
            "children": [
              "IPY_MODEL_cd1be24aea394b16b1a5a5829c38cf52",
              "IPY_MODEL_abb3890817944136a91943b4dc5f54aa",
              "IPY_MODEL_1dd3c99f025049e4ba064579744acc0c"
            ]
          }
        },
        "4ee2628c08c543eeb83239abf7d18712": {
          "model_module": "@jupyter-widgets/base",
          "model_name": "LayoutModel",
          "model_module_version": "1.2.0",
          "state": {
            "_view_name": "LayoutView",
            "grid_template_rows": null,
            "right": null,
            "justify_content": null,
            "_view_module": "@jupyter-widgets/base",
            "overflow": null,
            "_model_module_version": "1.2.0",
            "_view_count": null,
            "flex_flow": null,
            "width": null,
            "min_width": null,
            "border": null,
            "align_items": null,
            "bottom": null,
            "_model_module": "@jupyter-widgets/base",
            "top": null,
            "grid_column": null,
            "overflow_y": null,
            "overflow_x": null,
            "grid_auto_flow": null,
            "grid_area": null,
            "grid_template_columns": null,
            "flex": null,
            "_model_name": "LayoutModel",
            "justify_items": null,
            "grid_row": null,
            "max_height": null,
            "align_content": null,
            "visibility": null,
            "align_self": null,
            "height": null,
            "min_height": null,
            "padding": null,
            "grid_auto_rows": null,
            "grid_gap": null,
            "max_width": null,
            "order": null,
            "_view_module_version": "1.2.0",
            "grid_template_areas": null,
            "object_position": null,
            "object_fit": null,
            "grid_auto_columns": null,
            "margin": null,
            "display": null,
            "left": null
          }
        },
        "cd1be24aea394b16b1a5a5829c38cf52": {
          "model_module": "@jupyter-widgets/controls",
          "model_name": "HTMLModel",
          "model_module_version": "1.5.0",
          "state": {
            "_view_name": "HTMLView",
            "style": "IPY_MODEL_86e13386b0094c80a0e8d2311a44ef18",
            "_dom_classes": [],
            "description": "",
            "_model_name": "HTMLModel",
            "placeholder": "​",
            "_view_module": "@jupyter-widgets/controls",
            "_model_module_version": "1.5.0",
            "value": "Epoch : 0 / 100 , Training Loss 0.029322 , Loss 0.030952 , Weigth STD 0.080911 , Weight Mean 0.000223: 100%",
            "_view_count": null,
            "_view_module_version": "1.5.0",
            "description_tooltip": null,
            "_model_module": "@jupyter-widgets/controls",
            "layout": "IPY_MODEL_41e527d5664c4f6db646f569005e38c5"
          }
        },
        "abb3890817944136a91943b4dc5f54aa": {
          "model_module": "@jupyter-widgets/controls",
          "model_name": "FloatProgressModel",
          "model_module_version": "1.5.0",
          "state": {
            "_view_name": "ProgressView",
            "style": "IPY_MODEL_6afa45b6365248ab9388648e22bebe9a",
            "_dom_classes": [],
            "description": "",
            "_model_name": "FloatProgressModel",
            "bar_style": "success",
            "max": 800,
            "_view_module": "@jupyter-widgets/controls",
            "_model_module_version": "1.5.0",
            "value": 800,
            "_view_count": null,
            "_view_module_version": "1.5.0",
            "orientation": "horizontal",
            "min": 0,
            "description_tooltip": null,
            "_model_module": "@jupyter-widgets/controls",
            "layout": "IPY_MODEL_3218eb88af9249159769c8141b63b11d"
          }
        },
        "1dd3c99f025049e4ba064579744acc0c": {
          "model_module": "@jupyter-widgets/controls",
          "model_name": "HTMLModel",
          "model_module_version": "1.5.0",
          "state": {
            "_view_name": "HTMLView",
            "style": "IPY_MODEL_7be8529ef23a4aa5808cf688e0cad6cc",
            "_dom_classes": [],
            "description": "",
            "_model_name": "HTMLModel",
            "placeholder": "​",
            "_view_module": "@jupyter-widgets/controls",
            "_model_module_version": "1.5.0",
            "value": " 800/800 [1:53:57&lt;00:00,  8.56s/it]",
            "_view_count": null,
            "_view_module_version": "1.5.0",
            "description_tooltip": null,
            "_model_module": "@jupyter-widgets/controls",
            "layout": "IPY_MODEL_012d5cc9330946f5afa95e4c72a759a4"
          }
        },
        "86e13386b0094c80a0e8d2311a44ef18": {
          "model_module": "@jupyter-widgets/controls",
          "model_name": "DescriptionStyleModel",
          "model_module_version": "1.5.0",
          "state": {
            "_view_name": "StyleView",
            "_model_name": "DescriptionStyleModel",
            "description_width": "",
            "_view_module": "@jupyter-widgets/base",
            "_model_module_version": "1.5.0",
            "_view_count": null,
            "_view_module_version": "1.2.0",
            "_model_module": "@jupyter-widgets/controls"
          }
        },
        "41e527d5664c4f6db646f569005e38c5": {
          "model_module": "@jupyter-widgets/base",
          "model_name": "LayoutModel",
          "model_module_version": "1.2.0",
          "state": {
            "_view_name": "LayoutView",
            "grid_template_rows": null,
            "right": null,
            "justify_content": null,
            "_view_module": "@jupyter-widgets/base",
            "overflow": null,
            "_model_module_version": "1.2.0",
            "_view_count": null,
            "flex_flow": null,
            "width": null,
            "min_width": null,
            "border": null,
            "align_items": null,
            "bottom": null,
            "_model_module": "@jupyter-widgets/base",
            "top": null,
            "grid_column": null,
            "overflow_y": null,
            "overflow_x": null,
            "grid_auto_flow": null,
            "grid_area": null,
            "grid_template_columns": null,
            "flex": null,
            "_model_name": "LayoutModel",
            "justify_items": null,
            "grid_row": null,
            "max_height": null,
            "align_content": null,
            "visibility": null,
            "align_self": null,
            "height": null,
            "min_height": null,
            "padding": null,
            "grid_auto_rows": null,
            "grid_gap": null,
            "max_width": null,
            "order": null,
            "_view_module_version": "1.2.0",
            "grid_template_areas": null,
            "object_position": null,
            "object_fit": null,
            "grid_auto_columns": null,
            "margin": null,
            "display": null,
            "left": null
          }
        },
        "6afa45b6365248ab9388648e22bebe9a": {
          "model_module": "@jupyter-widgets/controls",
          "model_name": "ProgressStyleModel",
          "model_module_version": "1.5.0",
          "state": {
            "_view_name": "StyleView",
            "_model_name": "ProgressStyleModel",
            "description_width": "",
            "_view_module": "@jupyter-widgets/base",
            "_model_module_version": "1.5.0",
            "_view_count": null,
            "_view_module_version": "1.2.0",
            "bar_color": null,
            "_model_module": "@jupyter-widgets/controls"
          }
        },
        "3218eb88af9249159769c8141b63b11d": {
          "model_module": "@jupyter-widgets/base",
          "model_name": "LayoutModel",
          "model_module_version": "1.2.0",
          "state": {
            "_view_name": "LayoutView",
            "grid_template_rows": null,
            "right": null,
            "justify_content": null,
            "_view_module": "@jupyter-widgets/base",
            "overflow": null,
            "_model_module_version": "1.2.0",
            "_view_count": null,
            "flex_flow": null,
            "width": null,
            "min_width": null,
            "border": null,
            "align_items": null,
            "bottom": null,
            "_model_module": "@jupyter-widgets/base",
            "top": null,
            "grid_column": null,
            "overflow_y": null,
            "overflow_x": null,
            "grid_auto_flow": null,
            "grid_area": null,
            "grid_template_columns": null,
            "flex": null,
            "_model_name": "LayoutModel",
            "justify_items": null,
            "grid_row": null,
            "max_height": null,
            "align_content": null,
            "visibility": null,
            "align_self": null,
            "height": null,
            "min_height": null,
            "padding": null,
            "grid_auto_rows": null,
            "grid_gap": null,
            "max_width": null,
            "order": null,
            "_view_module_version": "1.2.0",
            "grid_template_areas": null,
            "object_position": null,
            "object_fit": null,
            "grid_auto_columns": null,
            "margin": null,
            "display": null,
            "left": null
          }
        },
        "7be8529ef23a4aa5808cf688e0cad6cc": {
          "model_module": "@jupyter-widgets/controls",
          "model_name": "DescriptionStyleModel",
          "model_module_version": "1.5.0",
          "state": {
            "_view_name": "StyleView",
            "_model_name": "DescriptionStyleModel",
            "description_width": "",
            "_view_module": "@jupyter-widgets/base",
            "_model_module_version": "1.5.0",
            "_view_count": null,
            "_view_module_version": "1.2.0",
            "_model_module": "@jupyter-widgets/controls"
          }
        },
        "012d5cc9330946f5afa95e4c72a759a4": {
          "model_module": "@jupyter-widgets/base",
          "model_name": "LayoutModel",
          "model_module_version": "1.2.0",
          "state": {
            "_view_name": "LayoutView",
            "grid_template_rows": null,
            "right": null,
            "justify_content": null,
            "_view_module": "@jupyter-widgets/base",
            "overflow": null,
            "_model_module_version": "1.2.0",
            "_view_count": null,
            "flex_flow": null,
            "width": null,
            "min_width": null,
            "border": null,
            "align_items": null,
            "bottom": null,
            "_model_module": "@jupyter-widgets/base",
            "top": null,
            "grid_column": null,
            "overflow_y": null,
            "overflow_x": null,
            "grid_auto_flow": null,
            "grid_area": null,
            "grid_template_columns": null,
            "flex": null,
            "_model_name": "LayoutModel",
            "justify_items": null,
            "grid_row": null,
            "max_height": null,
            "align_content": null,
            "visibility": null,
            "align_self": null,
            "height": null,
            "min_height": null,
            "padding": null,
            "grid_auto_rows": null,
            "grid_gap": null,
            "max_width": null,
            "order": null,
            "_view_module_version": "1.2.0",
            "grid_template_areas": null,
            "object_position": null,
            "object_fit": null,
            "grid_auto_columns": null,
            "margin": null,
            "display": null,
            "left": null
          }
        },
        "69f347bd39cd4955b6b17540d448f422": {
          "model_module": "@jupyter-widgets/controls",
          "model_name": "HBoxModel",
          "model_module_version": "1.5.0",
          "state": {
            "_view_name": "HBoxView",
            "_dom_classes": [],
            "_model_name": "HBoxModel",
            "_view_module": "@jupyter-widgets/controls",
            "_model_module_version": "1.5.0",
            "_view_count": null,
            "_view_module_version": "1.5.0",
            "box_style": "",
            "layout": "IPY_MODEL_86f78e69bb7440af9380c30e2fb931fa",
            "_model_module": "@jupyter-widgets/controls",
            "children": [
              "IPY_MODEL_e4cfeff882704781b4706bdaf87d5764",
              "IPY_MODEL_6bf8fce75df74eae851e1011a83553e9",
              "IPY_MODEL_fb931fa1667b467baccd6649b23c0714"
            ]
          }
        },
        "86f78e69bb7440af9380c30e2fb931fa": {
          "model_module": "@jupyter-widgets/base",
          "model_name": "LayoutModel",
          "model_module_version": "1.2.0",
          "state": {
            "_view_name": "LayoutView",
            "grid_template_rows": null,
            "right": null,
            "justify_content": null,
            "_view_module": "@jupyter-widgets/base",
            "overflow": null,
            "_model_module_version": "1.2.0",
            "_view_count": null,
            "flex_flow": null,
            "width": null,
            "min_width": null,
            "border": null,
            "align_items": null,
            "bottom": null,
            "_model_module": "@jupyter-widgets/base",
            "top": null,
            "grid_column": null,
            "overflow_y": null,
            "overflow_x": null,
            "grid_auto_flow": null,
            "grid_area": null,
            "grid_template_columns": null,
            "flex": null,
            "_model_name": "LayoutModel",
            "justify_items": null,
            "grid_row": null,
            "max_height": null,
            "align_content": null,
            "visibility": null,
            "align_self": null,
            "height": null,
            "min_height": null,
            "padding": null,
            "grid_auto_rows": null,
            "grid_gap": null,
            "max_width": null,
            "order": null,
            "_view_module_version": "1.2.0",
            "grid_template_areas": null,
            "object_position": null,
            "object_fit": null,
            "grid_auto_columns": null,
            "margin": null,
            "display": null,
            "left": null
          }
        },
        "e4cfeff882704781b4706bdaf87d5764": {
          "model_module": "@jupyter-widgets/controls",
          "model_name": "HTMLModel",
          "model_module_version": "1.5.0",
          "state": {
            "_view_name": "HTMLView",
            "style": "IPY_MODEL_d4a5cc27f8864c13ae451dc5856b0a9a",
            "_dom_classes": [],
            "description": "",
            "_model_name": "HTMLModel",
            "placeholder": "​",
            "_view_module": "@jupyter-widgets/controls",
            "_model_module_version": "1.5.0",
            "value": "Epoch : 1 / 100 , Training Loss 0.029523 , Loss 0.030497 , Weigth STD 0.090069 , Weight Mean 0.000547: 100%",
            "_view_count": null,
            "_view_module_version": "1.5.0",
            "description_tooltip": null,
            "_model_module": "@jupyter-widgets/controls",
            "layout": "IPY_MODEL_4f4b0d1a786d49c78077260b18cab86b"
          }
        },
        "6bf8fce75df74eae851e1011a83553e9": {
          "model_module": "@jupyter-widgets/controls",
          "model_name": "FloatProgressModel",
          "model_module_version": "1.5.0",
          "state": {
            "_view_name": "ProgressView",
            "style": "IPY_MODEL_fd4857344fe54a96a660eed4787221b7",
            "_dom_classes": [],
            "description": "",
            "_model_name": "FloatProgressModel",
            "bar_style": "success",
            "max": 800,
            "_view_module": "@jupyter-widgets/controls",
            "_model_module_version": "1.5.0",
            "value": 800,
            "_view_count": null,
            "_view_module_version": "1.5.0",
            "orientation": "horizontal",
            "min": 0,
            "description_tooltip": null,
            "_model_module": "@jupyter-widgets/controls",
            "layout": "IPY_MODEL_0ce16908d3ce4313a212573a82003285"
          }
        },
        "fb931fa1667b467baccd6649b23c0714": {
          "model_module": "@jupyter-widgets/controls",
          "model_name": "HTMLModel",
          "model_module_version": "1.5.0",
          "state": {
            "_view_name": "HTMLView",
            "style": "IPY_MODEL_c2c184869f4e48f28d66cbad05be6253",
            "_dom_classes": [],
            "description": "",
            "_model_name": "HTMLModel",
            "placeholder": "​",
            "_view_module": "@jupyter-widgets/controls",
            "_model_module_version": "1.5.0",
            "value": " 800/800 [1:53:57&lt;00:00,  8.55s/it]",
            "_view_count": null,
            "_view_module_version": "1.5.0",
            "description_tooltip": null,
            "_model_module": "@jupyter-widgets/controls",
            "layout": "IPY_MODEL_ded1c4d7fe844df2a8f8cfd2b63f53e1"
          }
        },
        "d4a5cc27f8864c13ae451dc5856b0a9a": {
          "model_module": "@jupyter-widgets/controls",
          "model_name": "DescriptionStyleModel",
          "model_module_version": "1.5.0",
          "state": {
            "_view_name": "StyleView",
            "_model_name": "DescriptionStyleModel",
            "description_width": "",
            "_view_module": "@jupyter-widgets/base",
            "_model_module_version": "1.5.0",
            "_view_count": null,
            "_view_module_version": "1.2.0",
            "_model_module": "@jupyter-widgets/controls"
          }
        },
        "4f4b0d1a786d49c78077260b18cab86b": {
          "model_module": "@jupyter-widgets/base",
          "model_name": "LayoutModel",
          "model_module_version": "1.2.0",
          "state": {
            "_view_name": "LayoutView",
            "grid_template_rows": null,
            "right": null,
            "justify_content": null,
            "_view_module": "@jupyter-widgets/base",
            "overflow": null,
            "_model_module_version": "1.2.0",
            "_view_count": null,
            "flex_flow": null,
            "width": null,
            "min_width": null,
            "border": null,
            "align_items": null,
            "bottom": null,
            "_model_module": "@jupyter-widgets/base",
            "top": null,
            "grid_column": null,
            "overflow_y": null,
            "overflow_x": null,
            "grid_auto_flow": null,
            "grid_area": null,
            "grid_template_columns": null,
            "flex": null,
            "_model_name": "LayoutModel",
            "justify_items": null,
            "grid_row": null,
            "max_height": null,
            "align_content": null,
            "visibility": null,
            "align_self": null,
            "height": null,
            "min_height": null,
            "padding": null,
            "grid_auto_rows": null,
            "grid_gap": null,
            "max_width": null,
            "order": null,
            "_view_module_version": "1.2.0",
            "grid_template_areas": null,
            "object_position": null,
            "object_fit": null,
            "grid_auto_columns": null,
            "margin": null,
            "display": null,
            "left": null
          }
        },
        "fd4857344fe54a96a660eed4787221b7": {
          "model_module": "@jupyter-widgets/controls",
          "model_name": "ProgressStyleModel",
          "model_module_version": "1.5.0",
          "state": {
            "_view_name": "StyleView",
            "_model_name": "ProgressStyleModel",
            "description_width": "",
            "_view_module": "@jupyter-widgets/base",
            "_model_module_version": "1.5.0",
            "_view_count": null,
            "_view_module_version": "1.2.0",
            "bar_color": null,
            "_model_module": "@jupyter-widgets/controls"
          }
        },
        "0ce16908d3ce4313a212573a82003285": {
          "model_module": "@jupyter-widgets/base",
          "model_name": "LayoutModel",
          "model_module_version": "1.2.0",
          "state": {
            "_view_name": "LayoutView",
            "grid_template_rows": null,
            "right": null,
            "justify_content": null,
            "_view_module": "@jupyter-widgets/base",
            "overflow": null,
            "_model_module_version": "1.2.0",
            "_view_count": null,
            "flex_flow": null,
            "width": null,
            "min_width": null,
            "border": null,
            "align_items": null,
            "bottom": null,
            "_model_module": "@jupyter-widgets/base",
            "top": null,
            "grid_column": null,
            "overflow_y": null,
            "overflow_x": null,
            "grid_auto_flow": null,
            "grid_area": null,
            "grid_template_columns": null,
            "flex": null,
            "_model_name": "LayoutModel",
            "justify_items": null,
            "grid_row": null,
            "max_height": null,
            "align_content": null,
            "visibility": null,
            "align_self": null,
            "height": null,
            "min_height": null,
            "padding": null,
            "grid_auto_rows": null,
            "grid_gap": null,
            "max_width": null,
            "order": null,
            "_view_module_version": "1.2.0",
            "grid_template_areas": null,
            "object_position": null,
            "object_fit": null,
            "grid_auto_columns": null,
            "margin": null,
            "display": null,
            "left": null
          }
        },
        "c2c184869f4e48f28d66cbad05be6253": {
          "model_module": "@jupyter-widgets/controls",
          "model_name": "DescriptionStyleModel",
          "model_module_version": "1.5.0",
          "state": {
            "_view_name": "StyleView",
            "_model_name": "DescriptionStyleModel",
            "description_width": "",
            "_view_module": "@jupyter-widgets/base",
            "_model_module_version": "1.5.0",
            "_view_count": null,
            "_view_module_version": "1.2.0",
            "_model_module": "@jupyter-widgets/controls"
          }
        },
        "ded1c4d7fe844df2a8f8cfd2b63f53e1": {
          "model_module": "@jupyter-widgets/base",
          "model_name": "LayoutModel",
          "model_module_version": "1.2.0",
          "state": {
            "_view_name": "LayoutView",
            "grid_template_rows": null,
            "right": null,
            "justify_content": null,
            "_view_module": "@jupyter-widgets/base",
            "overflow": null,
            "_model_module_version": "1.2.0",
            "_view_count": null,
            "flex_flow": null,
            "width": null,
            "min_width": null,
            "border": null,
            "align_items": null,
            "bottom": null,
            "_model_module": "@jupyter-widgets/base",
            "top": null,
            "grid_column": null,
            "overflow_y": null,
            "overflow_x": null,
            "grid_auto_flow": null,
            "grid_area": null,
            "grid_template_columns": null,
            "flex": null,
            "_model_name": "LayoutModel",
            "justify_items": null,
            "grid_row": null,
            "max_height": null,
            "align_content": null,
            "visibility": null,
            "align_self": null,
            "height": null,
            "min_height": null,
            "padding": null,
            "grid_auto_rows": null,
            "grid_gap": null,
            "max_width": null,
            "order": null,
            "_view_module_version": "1.2.0",
            "grid_template_areas": null,
            "object_position": null,
            "object_fit": null,
            "grid_auto_columns": null,
            "margin": null,
            "display": null,
            "left": null
          }
        },
        "ae74abeeb5984ef69dd13cd3c21d5e40": {
          "model_module": "@jupyter-widgets/controls",
          "model_name": "HBoxModel",
          "model_module_version": "1.5.0",
          "state": {
            "_view_name": "HBoxView",
            "_dom_classes": [],
            "_model_name": "HBoxModel",
            "_view_module": "@jupyter-widgets/controls",
            "_model_module_version": "1.5.0",
            "_view_count": null,
            "_view_module_version": "1.5.0",
            "box_style": "",
            "layout": "IPY_MODEL_7f296a67c5c84179a26efcdc90b69c45",
            "_model_module": "@jupyter-widgets/controls",
            "children": [
              "IPY_MODEL_8839c7a5bda64aadbdb18fa752fe24fe",
              "IPY_MODEL_00888e59d555491b9673fe5492761e1c",
              "IPY_MODEL_d2fde0acb9b94ca29a587988d28d2fc0"
            ]
          }
        },
        "7f296a67c5c84179a26efcdc90b69c45": {
          "model_module": "@jupyter-widgets/base",
          "model_name": "LayoutModel",
          "model_module_version": "1.2.0",
          "state": {
            "_view_name": "LayoutView",
            "grid_template_rows": null,
            "right": null,
            "justify_content": null,
            "_view_module": "@jupyter-widgets/base",
            "overflow": null,
            "_model_module_version": "1.2.0",
            "_view_count": null,
            "flex_flow": null,
            "width": null,
            "min_width": null,
            "border": null,
            "align_items": null,
            "bottom": null,
            "_model_module": "@jupyter-widgets/base",
            "top": null,
            "grid_column": null,
            "overflow_y": null,
            "overflow_x": null,
            "grid_auto_flow": null,
            "grid_area": null,
            "grid_template_columns": null,
            "flex": null,
            "_model_name": "LayoutModel",
            "justify_items": null,
            "grid_row": null,
            "max_height": null,
            "align_content": null,
            "visibility": null,
            "align_self": null,
            "height": null,
            "min_height": null,
            "padding": null,
            "grid_auto_rows": null,
            "grid_gap": null,
            "max_width": null,
            "order": null,
            "_view_module_version": "1.2.0",
            "grid_template_areas": null,
            "object_position": null,
            "object_fit": null,
            "grid_auto_columns": null,
            "margin": null,
            "display": null,
            "left": null
          }
        },
        "8839c7a5bda64aadbdb18fa752fe24fe": {
          "model_module": "@jupyter-widgets/controls",
          "model_name": "HTMLModel",
          "model_module_version": "1.5.0",
          "state": {
            "_view_name": "HTMLView",
            "style": "IPY_MODEL_259e871188394f1da7da31e3fcd7c9c1",
            "_dom_classes": [],
            "description": "",
            "_model_name": "HTMLModel",
            "placeholder": "​",
            "_view_module": "@jupyter-widgets/controls",
            "_model_module_version": "1.5.0",
            "value": "Epoch : 2 / 100 , Training Loss 0.029536 , Loss 0.030618 , Weigth STD 0.080019 , Weight Mean 0.000707:  55%",
            "_view_count": null,
            "_view_module_version": "1.5.0",
            "description_tooltip": null,
            "_model_module": "@jupyter-widgets/controls",
            "layout": "IPY_MODEL_6b9ddabf6c8847ea8dab959d211455f8"
          }
        },
        "00888e59d555491b9673fe5492761e1c": {
          "model_module": "@jupyter-widgets/controls",
          "model_name": "FloatProgressModel",
          "model_module_version": "1.5.0",
          "state": {
            "_view_name": "ProgressView",
            "style": "IPY_MODEL_945bcf1bc629499ebd25430604a49c83",
            "_dom_classes": [],
            "description": "",
            "_model_name": "FloatProgressModel",
            "bar_style": "",
            "max": 800,
            "_view_module": "@jupyter-widgets/controls",
            "_model_module_version": "1.5.0",
            "value": 439,
            "_view_count": null,
            "_view_module_version": "1.5.0",
            "orientation": "horizontal",
            "min": 0,
            "description_tooltip": null,
            "_model_module": "@jupyter-widgets/controls",
            "layout": "IPY_MODEL_0394bba6b9b748519a38d82afe5dc1fb"
          }
        },
        "d2fde0acb9b94ca29a587988d28d2fc0": {
          "model_module": "@jupyter-widgets/controls",
          "model_name": "HTMLModel",
          "model_module_version": "1.5.0",
          "state": {
            "_view_name": "HTMLView",
            "style": "IPY_MODEL_c0c1350edb6a4e5287f15740cd75f2ba",
            "_dom_classes": [],
            "description": "",
            "_model_name": "HTMLModel",
            "placeholder": "​",
            "_view_module": "@jupyter-widgets/controls",
            "_model_module_version": "1.5.0",
            "value": " 439/800 [1:02:34&lt;51:33,  8.57s/it]",
            "_view_count": null,
            "_view_module_version": "1.5.0",
            "description_tooltip": null,
            "_model_module": "@jupyter-widgets/controls",
            "layout": "IPY_MODEL_d1e81f9afba3416498b4686d2bf8e193"
          }
        },
        "259e871188394f1da7da31e3fcd7c9c1": {
          "model_module": "@jupyter-widgets/controls",
          "model_name": "DescriptionStyleModel",
          "model_module_version": "1.5.0",
          "state": {
            "_view_name": "StyleView",
            "_model_name": "DescriptionStyleModel",
            "description_width": "",
            "_view_module": "@jupyter-widgets/base",
            "_model_module_version": "1.5.0",
            "_view_count": null,
            "_view_module_version": "1.2.0",
            "_model_module": "@jupyter-widgets/controls"
          }
        },
        "6b9ddabf6c8847ea8dab959d211455f8": {
          "model_module": "@jupyter-widgets/base",
          "model_name": "LayoutModel",
          "model_module_version": "1.2.0",
          "state": {
            "_view_name": "LayoutView",
            "grid_template_rows": null,
            "right": null,
            "justify_content": null,
            "_view_module": "@jupyter-widgets/base",
            "overflow": null,
            "_model_module_version": "1.2.0",
            "_view_count": null,
            "flex_flow": null,
            "width": null,
            "min_width": null,
            "border": null,
            "align_items": null,
            "bottom": null,
            "_model_module": "@jupyter-widgets/base",
            "top": null,
            "grid_column": null,
            "overflow_y": null,
            "overflow_x": null,
            "grid_auto_flow": null,
            "grid_area": null,
            "grid_template_columns": null,
            "flex": null,
            "_model_name": "LayoutModel",
            "justify_items": null,
            "grid_row": null,
            "max_height": null,
            "align_content": null,
            "visibility": null,
            "align_self": null,
            "height": null,
            "min_height": null,
            "padding": null,
            "grid_auto_rows": null,
            "grid_gap": null,
            "max_width": null,
            "order": null,
            "_view_module_version": "1.2.0",
            "grid_template_areas": null,
            "object_position": null,
            "object_fit": null,
            "grid_auto_columns": null,
            "margin": null,
            "display": null,
            "left": null
          }
        },
        "945bcf1bc629499ebd25430604a49c83": {
          "model_module": "@jupyter-widgets/controls",
          "model_name": "ProgressStyleModel",
          "model_module_version": "1.5.0",
          "state": {
            "_view_name": "StyleView",
            "_model_name": "ProgressStyleModel",
            "description_width": "",
            "_view_module": "@jupyter-widgets/base",
            "_model_module_version": "1.5.0",
            "_view_count": null,
            "_view_module_version": "1.2.0",
            "bar_color": null,
            "_model_module": "@jupyter-widgets/controls"
          }
        },
        "0394bba6b9b748519a38d82afe5dc1fb": {
          "model_module": "@jupyter-widgets/base",
          "model_name": "LayoutModel",
          "model_module_version": "1.2.0",
          "state": {
            "_view_name": "LayoutView",
            "grid_template_rows": null,
            "right": null,
            "justify_content": null,
            "_view_module": "@jupyter-widgets/base",
            "overflow": null,
            "_model_module_version": "1.2.0",
            "_view_count": null,
            "flex_flow": null,
            "width": null,
            "min_width": null,
            "border": null,
            "align_items": null,
            "bottom": null,
            "_model_module": "@jupyter-widgets/base",
            "top": null,
            "grid_column": null,
            "overflow_y": null,
            "overflow_x": null,
            "grid_auto_flow": null,
            "grid_area": null,
            "grid_template_columns": null,
            "flex": null,
            "_model_name": "LayoutModel",
            "justify_items": null,
            "grid_row": null,
            "max_height": null,
            "align_content": null,
            "visibility": null,
            "align_self": null,
            "height": null,
            "min_height": null,
            "padding": null,
            "grid_auto_rows": null,
            "grid_gap": null,
            "max_width": null,
            "order": null,
            "_view_module_version": "1.2.0",
            "grid_template_areas": null,
            "object_position": null,
            "object_fit": null,
            "grid_auto_columns": null,
            "margin": null,
            "display": null,
            "left": null
          }
        },
        "c0c1350edb6a4e5287f15740cd75f2ba": {
          "model_module": "@jupyter-widgets/controls",
          "model_name": "DescriptionStyleModel",
          "model_module_version": "1.5.0",
          "state": {
            "_view_name": "StyleView",
            "_model_name": "DescriptionStyleModel",
            "description_width": "",
            "_view_module": "@jupyter-widgets/base",
            "_model_module_version": "1.5.0",
            "_view_count": null,
            "_view_module_version": "1.2.0",
            "_model_module": "@jupyter-widgets/controls"
          }
        },
        "d1e81f9afba3416498b4686d2bf8e193": {
          "model_module": "@jupyter-widgets/base",
          "model_name": "LayoutModel",
          "model_module_version": "1.2.0",
          "state": {
            "_view_name": "LayoutView",
            "grid_template_rows": null,
            "right": null,
            "justify_content": null,
            "_view_module": "@jupyter-widgets/base",
            "overflow": null,
            "_model_module_version": "1.2.0",
            "_view_count": null,
            "flex_flow": null,
            "width": null,
            "min_width": null,
            "border": null,
            "align_items": null,
            "bottom": null,
            "_model_module": "@jupyter-widgets/base",
            "top": null,
            "grid_column": null,
            "overflow_y": null,
            "overflow_x": null,
            "grid_auto_flow": null,
            "grid_area": null,
            "grid_template_columns": null,
            "flex": null,
            "_model_name": "LayoutModel",
            "justify_items": null,
            "grid_row": null,
            "max_height": null,
            "align_content": null,
            "visibility": null,
            "align_self": null,
            "height": null,
            "min_height": null,
            "padding": null,
            "grid_auto_rows": null,
            "grid_gap": null,
            "max_width": null,
            "order": null,
            "_view_module_version": "1.2.0",
            "grid_template_areas": null,
            "object_position": null,
            "object_fit": null,
            "grid_auto_columns": null,
            "margin": null,
            "display": null,
            "left": null
          }
        }
      }
    }
  },
  "cells": [
    {
      "cell_type": "code",
      "metadata": {
        "id": "IpX94hgRixpL"
      },
      "source": [
        "from IPython.display import clear_output"
      ],
      "execution_count": null,
      "outputs": []
    },
    {
      "cell_type": "code",
      "metadata": {
        "id": "ibzRGyGqiqt5"
      },
      "source": [
        "!pip install pyphysim\n",
        "clear_output()"
      ],
      "execution_count": null,
      "outputs": []
    },
    {
      "cell_type": "code",
      "metadata": {
        "id": "TqizcndEiLF-"
      },
      "source": [
        "import numpy as np\n",
        "import tensorflow as tf\n",
        "import matplotlib.pyplot as plt\n",
        "\n",
        "from tqdm.notebook import tqdm\n",
        "\n",
        "from pyphysim.util.misc import randn_c\n",
        "from pyphysim.modulators.fundamental import BPSK, QAM, Modulator"
      ],
      "execution_count": null,
      "outputs": []
    },
    {
      "cell_type": "code",
      "metadata": {
        "id": "ZjhqzapyilvA"
      },
      "source": [
        ""
      ],
      "execution_count": null,
      "outputs": []
    },
    {
      "cell_type": "code",
      "metadata": {
        "id": "q5Rg0S1M3H1a"
      },
      "source": [
        ""
      ],
      "execution_count": null,
      "outputs": []
    },
    {
      "cell_type": "markdown",
      "metadata": {
        "id": "2Ik1rkuQ_RnB"
      },
      "source": [
        "## Data"
      ]
    },
    {
      "cell_type": "code",
      "metadata": {
        "id": "a0l1p03R4Gg5"
      },
      "source": [
        "def generate_sample(n_symbols=4, n_symbol_array=8):\n",
        "    samples = []\n",
        "    for array in range(n_symbols ** n_symbol_array):\n",
        "        sample = np.zeros(n_symbol_array)\n",
        "        for counter in range(n_symbol_array):\n",
        "            sample[counter] = array % n_symbols\n",
        "            array = array // n_symbols\n",
        "            \n",
        "        samples.append(sample)   \n",
        "    \n",
        "    samples = np.stack(samples).astype(np.int32)\n",
        "    modulator = BPSK() if n_symbols == 2 else QAM(n_symbols)\n",
        "    sym_samples = modulator.modulate(samples)\n",
        "    return sym_samples"
      ],
      "execution_count": null,
      "outputs": []
    },
    {
      "cell_type": "code",
      "metadata": {
        "id": "m0LLvoL293NR"
      },
      "source": [
        "def mu_mm_ch_train(N, K, L=20, NN=1000):\n",
        "    \"\"\"\n",
        "    This function generates NN relaization of KxN channel\n",
        "    Inputs:\n",
        "        N: Number of transmit antennas\n",
        "        K: Number of receive antennas, or number of single antenna users\n",
        "        L: Number of paths\n",
        "        NN: Number of channel reallization\n",
        "    output:\n",
        "        H: (NN, K, N) complex-values numpy array\n",
        "    \"\"\"\n",
        "\n",
        "    Phi_r = 2 * np.pi * np.random.uniform(0, 1, [NN, 1, K, L])\n",
        "    T_r = np.cos(np.repeat(Phi_r, N, axis=1))\n",
        "    kdr = -np.pi * 1j * (np.repeat(np.arange(N).reshape(1, N, 1, 1), L,\n",
        "                                   axis=3))\n",
        "    a_r = 1 / np.sqrt(N) * np.exp(T_r * (kdr))\n",
        "    P = np.random.uniform(0, 1, [NN, 1, K, L])\n",
        "    NF = np.repeat(np.sum(P, axis=3)[:, :, :, np.newaxis], L, axis=3)\n",
        "    P = P / NF\n",
        "    alpha1 = randn_c(NN, 1, K, L)\n",
        "    alpha = np.repeat(alpha1 * np.sqrt(P), N, axis=1)\n",
        "    H = np.transpose(\n",
        "        np.sqrt(N) * np.sum(alpha * (a_r.squeeze()), axis=3), [0, 2, 1])\n",
        "    return H"
      ],
      "execution_count": null,
      "outputs": []
    },
    {
      "cell_type": "code",
      "metadata": {
        "id": "arRJp4pW-Rdz"
      },
      "source": [
        "def generate_real_target(samples, channel):\n",
        "    U, D, V = np.linalg.svd(channel, full_matrices=False)\n",
        "    PC = V.conj().T\n",
        "    XT = PC @ samples.T\n",
        "\n",
        "    return XT.T"
      ],
      "execution_count": null,
      "outputs": []
    },
    {
      "cell_type": "code",
      "metadata": {
        "id": "701GnWq48s8Q"
      },
      "source": [
        "samples = generate_sample()\n",
        "random_channel = mu_mm_ch_train(128, 8)"
      ],
      "execution_count": null,
      "outputs": []
    },
    {
      "cell_type": "code",
      "metadata": {
        "id": "IOHOKELoFDAo"
      },
      "source": [
        "n_train_channel = int(0.8 * len(random_channel))\n",
        "train_channels = random_channel[:n_train_channel]\n",
        "test_channels = random_channel[n_train_channel:]"
      ],
      "execution_count": null,
      "outputs": []
    },
    {
      "cell_type": "code",
      "metadata": {
        "id": "HFVPaw4M-IPc"
      },
      "source": [
        ""
      ],
      "execution_count": null,
      "outputs": []
    },
    {
      "cell_type": "code",
      "metadata": {
        "id": "OGXCw6RaNd6t"
      },
      "source": [
        ""
      ],
      "execution_count": null,
      "outputs": []
    },
    {
      "cell_type": "markdown",
      "metadata": {
        "id": "QO_A1SrdsHf7"
      },
      "source": [
        "## HyperNetwork"
      ]
    },
    {
      "cell_type": "code",
      "metadata": {
        "id": "fWJKTXDKAXXv"
      },
      "source": [
        "tf.keras.backend.clear_session()"
      ],
      "execution_count": null,
      "outputs": []
    },
    {
      "cell_type": "code",
      "metadata": {
        "colab": {
          "base_uri": "https://localhost:8080/",
          "height": 49,
          "referenced_widgets": [
            "9c798d5ff5b348e79d13c8c5e92794c9",
            "b41432998e7e466bafb587b189557e16",
            "5af9ab1c65ce4b10bb2e44d53abd32ba",
            "568f11b5cd814c57a710a0a87761bf5b",
            "b1da6d53dfc04b7facee8f27c237027f",
            "b650aa636211401eb2c8bf3c1fdf278e",
            "1ab4af69bc7f42ac9bbe262bce198888",
            "a706d767e0b8490c983abc4e100d549b",
            "0364dfc715304b2280c001d0fb3c87c0",
            "f9ba61acf06f4fa5a18853a7522f3e53",
            "0907f278b8734058a88fab4d6cc1f821"
          ]
        },
        "id": "qU0PCSZpga_u",
        "outputId": "4998fc2f-b494-4f22-ce2d-e858ca3e93cc"
      },
      "source": [
        "loss_tracker = tf.keras.metrics.Mean()\n",
        "\n",
        "Channels = []\n",
        "Weights = []\n",
        "\n",
        "\n",
        "Input = tf.keras.layers.Input(shape=(2 * 8))\n",
        "x = tf.keras.layers.Dense(32, activation=\"relu\")(Input)\n",
        "x = tf.keras.layers.Dense(2 * 8, activation=\"relu\")(x)\n",
        "\n",
        "y = tf.keras.layers.Dense(2 * 128)(x)\n",
        "\n",
        "_meta_model = tf.keras.models.Model(Input, y)\n",
        "\n",
        "_meta_model.compile(optimizer=tf.keras.optimizers.Adam(1e-4),\n",
        "                    loss=tf.keras.losses.MeanSquaredError())\n",
        "\n",
        "flag = 1\n",
        "pbar = tqdm(train_channels[:100])\n",
        "for train_channel in pbar:\n",
        "\n",
        "    X = np.concatenate([np.real(samples), np.imag(samples)], axis=1)\n",
        "    real_y = generate_real_target(samples, train_channel)\n",
        "    Y = np.concatenate([np.real(real_y), np.imag(real_y)], axis=1)\n",
        "    Channel = np.concatenate([np.real(train_channel), np.imag(train_channel)], axis=1)[None, ...]\n",
        "\n",
        "    \n",
        "    history = _meta_model.fit(X, Y,\n",
        "                              batch_size=256,\n",
        "                              epochs=25,\n",
        "                              validation_split=0.1,\n",
        "                              verbose=0)\n",
        "\n",
        "    loss = history.history[\"loss\"][-1]\n",
        "    loss_tracker.update_state(loss)\n",
        "\n",
        "    weights = []\n",
        "    for weight in _meta_model.weights:\n",
        "        weights.append(np.reshape(weight.numpy(), (1, -1)))\n",
        "\n",
        "    weights = np.concatenate(weights, axis=1)\n",
        "\n",
        "    Weights.append(weights)\n",
        "    Channels.append(Channel)\n",
        "\n",
        "    pbar.set_description(\"Epoch : %d / %d , Training Loss : %f , Loss : %f\" % (flag, len(pbar), float(loss_tracker.result()), loss))\n",
        "    flag += 1\n",
        "\n",
        "Weights = np.concatenate(Weights, axis=0)\n",
        "Channels = np.concatenate(Channels, axis=0)"
      ],
      "execution_count": null,
      "outputs": [
        {
          "output_type": "display_data",
          "data": {
            "application/vnd.jupyter.widget-view+json": {
              "model_id": "9c798d5ff5b348e79d13c8c5e92794c9",
              "version_minor": 0,
              "version_major": 2
            },
            "text/plain": [
              "  0%|          | 0/100 [00:00<?, ?it/s]"
            ]
          },
          "metadata": {}
        }
      ]
    },
    {
      "cell_type": "code",
      "metadata": {
        "colab": {
          "base_uri": "https://localhost:8080/"
        },
        "id": "SCTsuAd1u36c",
        "outputId": "11f06e94-ecb1-4b5d-be46-1f1de25e9b69"
      },
      "source": [
        "hyper_model = tf.keras.Sequential(\n",
        "    [\n",
        "        tf.keras.layers.InputLayer(input_shape=(8, 128 * 2)),\n",
        "     \n",
        "        tf.keras.layers.Dense(256),\n",
        "        tf.keras.layers.ReLU(),\n",
        "     \n",
        "        tf.keras.layers.Dense(256),\n",
        "        tf.keras.layers.ReLU(),\n",
        "     \n",
        "        tf.keras.layers.Dense(256),\n",
        "        tf.keras.layers.ReLU(),\n",
        "     \n",
        "        tf.keras.layers.Dense(678),\n",
        "\n",
        "        tf.keras.layers.Flatten(),\n",
        "    ], name='hyper_model'\n",
        ")\n",
        "\n",
        "hyper_model.summary()"
      ],
      "execution_count": null,
      "outputs": [
        {
          "output_type": "stream",
          "name": "stdout",
          "text": [
            "Model: \"hyper_model\"\n",
            "_________________________________________________________________\n",
            "Layer (type)                 Output Shape              Param #   \n",
            "=================================================================\n",
            "dense_3 (Dense)              (None, 8, 256)            65792     \n",
            "_________________________________________________________________\n",
            "re_lu (ReLU)                 (None, 8, 256)            0         \n",
            "_________________________________________________________________\n",
            "dense_4 (Dense)              (None, 8, 256)            65792     \n",
            "_________________________________________________________________\n",
            "re_lu_1 (ReLU)               (None, 8, 256)            0         \n",
            "_________________________________________________________________\n",
            "dense_5 (Dense)              (None, 8, 256)            65792     \n",
            "_________________________________________________________________\n",
            "re_lu_2 (ReLU)               (None, 8, 256)            0         \n",
            "_________________________________________________________________\n",
            "dense_6 (Dense)              (None, 8, 678)            174246    \n",
            "_________________________________________________________________\n",
            "flatten (Flatten)            (None, 5424)              0         \n",
            "=================================================================\n",
            "Total params: 371,622\n",
            "Trainable params: 371,622\n",
            "Non-trainable params: 0\n",
            "_________________________________________________________________\n"
          ]
        }
      ]
    },
    {
      "cell_type": "code",
      "metadata": {
        "colab": {
          "base_uri": "https://localhost:8080/"
        },
        "id": "oh6bAunVGcy5",
        "outputId": "fbd9d841-6b5e-4216-e845-4fa3824576d2"
      },
      "source": [
        "Input = tf.keras.layers.Input(shape=(2 * 8))\n",
        "x = tf.keras.layers.Dense(32, activation=\"relu\")(Input)\n",
        "x = tf.keras.layers.Dense(2 * 8, activation=\"relu\")(x)\n",
        "\n",
        "y = tf.keras.layers.Dense(2 * 128)(x)\n",
        "\n",
        "model = tf.keras.models.Model(Input, y)\n",
        "\n",
        "model.built = True\n",
        "\n",
        "model.summary()"
      ],
      "execution_count": null,
      "outputs": [
        {
          "output_type": "stream",
          "name": "stdout",
          "text": [
            "Model: \"model_1\"\n",
            "_________________________________________________________________\n",
            "Layer (type)                 Output Shape              Param #   \n",
            "=================================================================\n",
            "input_3 (InputLayer)         [(None, 16)]              0         \n",
            "_________________________________________________________________\n",
            "dense_7 (Dense)              (None, 32)                544       \n",
            "_________________________________________________________________\n",
            "dense_8 (Dense)              (None, 16)                528       \n",
            "_________________________________________________________________\n",
            "dense_9 (Dense)              (None, 256)               4352      \n",
            "=================================================================\n",
            "Total params: 5,424\n",
            "Trainable params: 5,424\n",
            "Non-trainable params: 0\n",
            "_________________________________________________________________\n"
          ]
        }
      ]
    },
    {
      "cell_type": "code",
      "metadata": {
        "id": "rPpOc6wM2REv"
      },
      "source": [
        "def parameterize_model(model, weights):\n",
        "    weights = tf.reshape( weights, [-1] )\n",
        "\n",
        "    last_used = 0\n",
        "    for counter in range(len(model.layers)):\n",
        "        if 'dense' in model.layers[counter].name: \n",
        "              weights_shape = model.layers[counter].kernel.shape\n",
        "              no_of_weights = tf.reduce_prod(weights_shape)\n",
        "              new_weights = tf.reshape(weights[last_used:last_used+no_of_weights], weights_shape) \n",
        "              model.layers[counter].kernel = new_weights\n",
        "              last_used += no_of_weights\n",
        "             \n",
        "              if model.layers[counter].use_bias:\n",
        "                  weights_shape = model.layers[counter].bias.shape\n",
        "                  no_of_weights = tf.reduce_prod(weights_shape)\n",
        "                  new_weights = tf.reshape(weights[last_used:last_used+no_of_weights], weights_shape) \n",
        "                  model.layers[counter].bias = new_weights\n",
        "                  last_used += no_of_weights"
      ],
      "execution_count": null,
      "outputs": []
    },
    {
      "cell_type": "code",
      "metadata": {
        "id": "YIe5AHO4RQ1f"
      },
      "source": [
        "meta_model = tf.keras.models.clone_model(hyper_model)\n",
        "\n",
        "meta_model.compile(optimizer=tf.keras.optimizers.Adam(1e-4),\n",
        "                   loss=tf.keras.losses.MeanSquaredError())"
      ],
      "execution_count": null,
      "outputs": []
    },
    {
      "cell_type": "code",
      "metadata": {
        "colab": {
          "base_uri": "https://localhost:8080/"
        },
        "id": "_o4DTcDzRBbs",
        "outputId": "1d3f82da-759c-4fb0-ad9a-11766f0cfb89"
      },
      "source": [
        "meta_model.fit(Channels, Weights,\n",
        "               epochs=2000, verbose=0)"
      ],
      "execution_count": null,
      "outputs": [
        {
          "output_type": "execute_result",
          "data": {
            "text/plain": [
              "<keras.callbacks.History at 0x7fe27163e590>"
            ]
          },
          "metadata": {},
          "execution_count": 13
        }
      ]
    },
    {
      "cell_type": "code",
      "metadata": {
        "id": "irLBD3jU4YG_"
      },
      "source": [
        "meta_model_weight = meta_model.get_weights()\n",
        "hyper_model.set_weights(meta_model_weight)"
      ],
      "execution_count": null,
      "outputs": []
    },
    {
      "cell_type": "code",
      "metadata": {
        "id": "M5AqQsjsqUvD"
      },
      "source": [
        ""
      ],
      "execution_count": null,
      "outputs": []
    },
    {
      "cell_type": "code",
      "metadata": {
        "id": "k0D6eMso2azF"
      },
      "source": [
        "optimizer = tf.keras.optimizers.Adam(1e-4)\n",
        "loss_fn = tf.keras.losses.MeanSquaredError()"
      ],
      "execution_count": null,
      "outputs": []
    },
    {
      "cell_type": "code",
      "metadata": {
        "colab": {
          "base_uri": "https://localhost:8080/",
          "height": 113,
          "referenced_widgets": [
            "30653aaa235747f39d6a4736c02282b2",
            "4ee2628c08c543eeb83239abf7d18712",
            "cd1be24aea394b16b1a5a5829c38cf52",
            "abb3890817944136a91943b4dc5f54aa",
            "1dd3c99f025049e4ba064579744acc0c",
            "86e13386b0094c80a0e8d2311a44ef18",
            "41e527d5664c4f6db646f569005e38c5",
            "6afa45b6365248ab9388648e22bebe9a",
            "3218eb88af9249159769c8141b63b11d",
            "7be8529ef23a4aa5808cf688e0cad6cc",
            "012d5cc9330946f5afa95e4c72a759a4",
            "69f347bd39cd4955b6b17540d448f422",
            "86f78e69bb7440af9380c30e2fb931fa",
            "e4cfeff882704781b4706bdaf87d5764",
            "6bf8fce75df74eae851e1011a83553e9",
            "fb931fa1667b467baccd6649b23c0714",
            "d4a5cc27f8864c13ae451dc5856b0a9a",
            "4f4b0d1a786d49c78077260b18cab86b",
            "fd4857344fe54a96a660eed4787221b7",
            "0ce16908d3ce4313a212573a82003285",
            "c2c184869f4e48f28d66cbad05be6253",
            "ded1c4d7fe844df2a8f8cfd2b63f53e1",
            "ae74abeeb5984ef69dd13cd3c21d5e40",
            "7f296a67c5c84179a26efcdc90b69c45",
            "8839c7a5bda64aadbdb18fa752fe24fe",
            "00888e59d555491b9673fe5492761e1c",
            "d2fde0acb9b94ca29a587988d28d2fc0",
            "259e871188394f1da7da31e3fcd7c9c1",
            "6b9ddabf6c8847ea8dab959d211455f8",
            "945bcf1bc629499ebd25430604a49c83",
            "0394bba6b9b748519a38d82afe5dc1fb",
            "c0c1350edb6a4e5287f15740cd75f2ba",
            "d1e81f9afba3416498b4686d2bf8e193"
          ]
        },
        "id": "oBzulifz2awG",
        "outputId": "0efed046-58ad-4015-c373-96c8b5499590"
      },
      "source": [
        "Epochs = 100\n",
        "batch_size = 256\n",
        "All_Loss = []\n",
        "loss_tracker = tf.keras.metrics.Mean()\n",
        "Total_loss_tracker = tf.keras.metrics.Mean()\n",
        "Total_All_Loss = []\n",
        "\n",
        "\n",
        "for epoch in range(Epochs):\n",
        "\n",
        "    X = np.concatenate([np.real(samples), np.imag(samples)], axis=1)\n",
        "\n",
        "    flag = 0\n",
        "    pbar = tqdm(train_channels)\n",
        "    for train_channel in pbar:\n",
        "\n",
        "        real_y = generate_real_target(samples, train_channel)\n",
        "        Y = np.concatenate([np.real(real_y), np.imag(real_y)], axis=1)\n",
        "        #Channel = np.stack([np.real(train_channel), np.imag(train_channel)], axis=-1).reshape((1, 32, 32, 2))\n",
        "        #Channel = np.concatenate([np.real(train_channel), np.imag(train_channel)], axis=1).reshape((1,-1))\n",
        "        Channel = np.concatenate([np.real(train_channel), np.imag(train_channel)], axis=1)[None, ...]\n",
        "\n",
        "        for counter in range(int(4 ** 8 / batch_size)):\n",
        "            loss_tracker.reset_states()\n",
        "            x_batch, y_batch =  X[counter * batch_size:(counter + 1) * batch_size], Y[counter * batch_size:(counter + 1) * batch_size]\n",
        "            with tf.GradientTape() as tape:\n",
        "                generated_parameters = hyper_model(Channel)\n",
        "                parameterize_model(model, generated_parameters)\n",
        "\n",
        "                preds = model(x_batch)\n",
        "                loss = loss_fn(y_batch, preds)\n",
        "                loss_tracker.update_state(loss)\n",
        "            grads = tape.gradient(loss, hyper_model.trainable_weights)\n",
        "            optimizer.apply_gradients(zip(grads, hyper_model.trainable_weights))\n",
        "\n",
        "        \n",
        "        Total_loss_tracker.update_state(loss_tracker.result())\n",
        "        pbar.set_description(\"Epoch : %d / %d , Training Loss %f , Loss %f , Weigth STD %f , Weight Mean %f\" % \\\n",
        "                             (epoch, Epochs, float(Total_loss_tracker.result()), float(loss_tracker.result()), float(tf.math.reduce_std(generated_parameters)), float(tf.math.reduce_mean(generated_parameters))))\n",
        "    pbar.close()\n",
        "\n",
        "    #buff_loss = loss_tracker.result()\n",
        "    #Total_loss_tracker.update_state(buff_loss)\n",
        "\n",
        "    #if epoch % len(Images) == 0:\n",
        "    #   Total_All_Loss.append(float(Total_loss_tracker.result()))\n",
        "    #   Total_loss_tracker.reset_states()\n",
        "    #   \n",
        "    #   print(20 * \"*\", f\"  {epoch}  \", 20 * \"*\")\n",
        "    #   print(\"Training Loss End of Epoch: %.4f\" % (Total_All_Loss[-1],))\n",
        "    #   print(20 * \"*\", f\"  {epoch}  \", 20 * \"*\")\n",
        "       \n",
        "\n",
        "    #All_Loss.append(float(buff_loss))\n",
        "    #print(\"Training Loss End of Epoch: %.4f\" % (float(buff_loss),))\n",
        "    loss_tracker.reset_states()"
      ],
      "execution_count": null,
      "outputs": [
        {
          "output_type": "display_data",
          "data": {
            "application/vnd.jupyter.widget-view+json": {
              "model_id": "30653aaa235747f39d6a4736c02282b2",
              "version_minor": 0,
              "version_major": 2
            },
            "text/plain": [
              "  0%|          | 0/800 [00:00<?, ?it/s]"
            ]
          },
          "metadata": {}
        },
        {
          "output_type": "display_data",
          "data": {
            "application/vnd.jupyter.widget-view+json": {
              "model_id": "69f347bd39cd4955b6b17540d448f422",
              "version_minor": 0,
              "version_major": 2
            },
            "text/plain": [
              "  0%|          | 0/800 [00:00<?, ?it/s]"
            ]
          },
          "metadata": {}
        },
        {
          "output_type": "display_data",
          "data": {
            "application/vnd.jupyter.widget-view+json": {
              "model_id": "ae74abeeb5984ef69dd13cd3c21d5e40",
              "version_minor": 0,
              "version_major": 2
            },
            "text/plain": [
              "  0%|          | 0/800 [00:00<?, ?it/s]"
            ]
          },
          "metadata": {}
        }
      ]
    },
    {
      "cell_type": "code",
      "metadata": {
        "colab": {
          "base_uri": "https://localhost:8080/",
          "height": 265
        },
        "id": "XpsVBeAjG7rQ",
        "outputId": "8925efe7-a3be-4c9f-9483-2a65dff598c7"
      },
      "source": [
        "_ = plt.hist(generated_parameters.numpy().flatten(), 150)"
      ],
      "execution_count": null,
      "outputs": [
        {
          "output_type": "display_data",
          "data": {
            "image/png": "[encoded data removed]",
            "text/plain": [
              "<Figure size 432x288 with 1 Axes>"
            ]
          },
          "metadata": {
            "needs_background": "light"
          }
        }
      ]
    },
    {
      "cell_type": "code",
      "metadata": {
        "id": "Jw1uh4r9tR26"
      },
      "source": [
        ""
      ],
      "execution_count": null,
      "outputs": []
    },
    {
      "cell_type": "code",
      "metadata": {
        "id": "tovnPzNt5Z8g"
      },
      "source": [
        ""
      ],
      "execution_count": null,
      "outputs": []
    },
    {
      "cell_type": "markdown",
      "metadata": {
        "id": "AscESF91sL1F"
      },
      "source": [
        "## Encoder Network"
      ]
    },
    {
      "cell_type": "code",
      "metadata": {
        "id": "545QJUsxue_K"
      },
      "source": [
        "tf.keras.backend.clear_session()"
      ],
      "execution_count": null,
      "outputs": []
    },
    {
      "cell_type": "code",
      "metadata": {
        "id": "xSsq4BTFuY6Z"
      },
      "source": [
        "channel_code_length = 256"
      ],
      "execution_count": null,
      "outputs": []
    },
    {
      "cell_type": "code",
      "metadata": {
        "colab": {
          "base_uri": "https://localhost:8080/"
        },
        "id": "MPyjTAH24Fdw",
        "outputId": "c3badba9-8c8f-4c59-aed0-c052269e43b8"
      },
      "source": [
        "Input = tf.keras.layers.Input(shape=(2 * 8 + channel_code_length))\n",
        "x = tf.keras.layers.Dense(32, activation=\"relu\")(Input)\n",
        "x = tf.keras.layers.Dense(2 * 8, activation=\"relu\")(x)\n",
        "\n",
        "x = tf.keras.layers.Dense(2 * 128)(x)\n",
        "\n",
        "\n",
        "model = tf.keras.models.Model(Input, x)\n",
        "\n",
        "model.summary()"
      ],
      "execution_count": null,
      "outputs": [
        {
          "output_type": "stream",
          "name": "stdout",
          "text": [
            "Model: \"model\"\n",
            "_________________________________________________________________\n",
            "Layer (type)                 Output Shape              Param #   \n",
            "=================================================================\n",
            "input_1 (InputLayer)         [(None, 272)]             0         \n",
            "_________________________________________________________________\n",
            "dense (Dense)                (None, 32)                8736      \n",
            "_________________________________________________________________\n",
            "dense_1 (Dense)              (None, 16)                528       \n",
            "_________________________________________________________________\n",
            "dense_2 (Dense)              (None, 256)               4352      \n",
            "=================================================================\n",
            "Total params: 13,616\n",
            "Trainable params: 13,616\n",
            "Non-trainable params: 0\n",
            "_________________________________________________________________\n"
          ]
        }
      ]
    },
    {
      "cell_type": "code",
      "metadata": {
        "colab": {
          "base_uri": "https://localhost:8080/"
        },
        "id": "0SpdPnJS4Ym3",
        "outputId": "5caa8361-22b8-4b66-82b8-06c86233cea6"
      },
      "source": [
        "channel_model = tf.keras.Sequential(\n",
        "    [\n",
        "        tf.keras.layers.InputLayer(input_shape=(128 * 8 * 2)),\n",
        "        tf.keras.layers.Dense(512, activation=\"relu\"),\n",
        "        tf.keras.layers.Dense(channel_code_length, activation=None)\n",
        "    ], name='channel_model'\n",
        ")\n",
        "\n",
        "\n",
        "channel_model.summary()"
      ],
      "execution_count": null,
      "outputs": [
        {
          "output_type": "stream",
          "name": "stdout",
          "text": [
            "Model: \"channel_model\"\n",
            "_________________________________________________________________\n",
            "Layer (type)                 Output Shape              Param #   \n",
            "=================================================================\n",
            "dense_3 (Dense)              (None, 512)               1049088   \n",
            "_________________________________________________________________\n",
            "dense_4 (Dense)              (None, 256)               131328    \n",
            "=================================================================\n",
            "Total params: 1,180,416\n",
            "Trainable params: 1,180,416\n",
            "Non-trainable params: 0\n",
            "_________________________________________________________________\n"
          ]
        }
      ]
    },
    {
      "cell_type": "code",
      "metadata": {
        "id": "BdDUSHDjyWPu"
      },
      "source": [
        "train_Channels = []\n",
        "test_Channels = []\n",
        "\n",
        "for train_channel in train_channels:\n",
        "    Channel = np.concatenate([np.real(train_channel), np.imag(train_channel)], axis=1).reshape((1, -1))\n",
        "    train_Channels.append(Channel)\n",
        "\n",
        "for test_channel in test_channels:\n",
        "    Channel = np.concatenate([np.real(test_channel), np.imag(test_channel)], axis=1).reshape((1, -1))\n",
        "    test_Channels.append(Channel)\n",
        "\n",
        "train_Channels = np.concatenate(train_Channels, axis=0)\n",
        "test_Channels = np.concatenate(test_Channels, axis=0)"
      ],
      "execution_count": null,
      "outputs": []
    },
    {
      "cell_type": "code",
      "metadata": {
        "colab": {
          "base_uri": "https://localhost:8080/"
        },
        "id": "rp96J9ZsusNg",
        "outputId": "597873b5-cc48-41b3-b4d3-a44df0297412"
      },
      "source": [
        "batch_size = 256\n",
        "\n",
        "X1 = tf.keras.layers.Input(shape=(2 * 8))\n",
        "X2 = tf.keras.layers.Input(shape=(128 * 8 * 2))\n",
        "\n",
        "coded_channel = channel_model(X2)\n",
        "coded_channel = tf.keras.layers.Lambda(lambda x : tf.tile(x, [batch_size, 1]))(coded_channel)\n",
        "\n",
        "Sample_with_Channel = tf.keras.layers.Concatenate(axis=-1)([X1, coded_channel])\n",
        "\n",
        "y = model(Sample_with_Channel)\n",
        "\n",
        "Final_model = tf.keras.models.Model([X1, X2], y)\n",
        "\n",
        "Final_model.summary()"
      ],
      "execution_count": null,
      "outputs": [
        {
          "output_type": "stream",
          "name": "stdout",
          "text": [
            "Model: \"model_1\"\n",
            "__________________________________________________________________________________________________\n",
            "Layer (type)                    Output Shape         Param #     Connected to                     \n",
            "==================================================================================================\n",
            "input_4 (InputLayer)            [(None, 2048)]       0                                            \n",
            "__________________________________________________________________________________________________\n",
            "channel_model (Sequential)      (None, 256)          1180416     input_4[0][0]                    \n",
            "__________________________________________________________________________________________________\n",
            "input_3 (InputLayer)            [(None, 16)]         0                                            \n",
            "__________________________________________________________________________________________________\n",
            "lambda (Lambda)                 (None, 256)          0           channel_model[0][0]              \n",
            "__________________________________________________________________________________________________\n",
            "concatenate (Concatenate)       (None, 272)          0           input_3[0][0]                    \n",
            "                                                                 lambda[0][0]                     \n",
            "__________________________________________________________________________________________________\n",
            "model (Functional)              (None, 256)          13616       concatenate[0][0]                \n",
            "==================================================================================================\n",
            "Total params: 1,194,032\n",
            "Trainable params: 1,194,032\n",
            "Non-trainable params: 0\n",
            "__________________________________________________________________________________________________\n"
          ]
        }
      ]
    },
    {
      "cell_type": "code",
      "metadata": {
        "id": "KdqUN7O_55N7"
      },
      "source": [
        ""
      ],
      "execution_count": null,
      "outputs": []
    },
    {
      "cell_type": "code",
      "metadata": {
        "id": "8G3laYZC57nn"
      },
      "source": [
        "optimizer = tf.keras.optimizers.Adam(1e-4)\n",
        "loss_fn = tf.keras.losses.MeanSquaredError()"
      ],
      "execution_count": null,
      "outputs": []
    },
    {
      "cell_type": "code",
      "metadata": {
        "id": "piNeCdJJvUE1"
      },
      "source": [
        "Epochs = 100\n",
        "batch_size = batch_size\n",
        "All_Loss = []\n",
        "loss_tracker = tf.keras.metrics.Mean()\n",
        "Total_loss_tracker = tf.keras.metrics.Mean()\n",
        "Total_All_Loss = []\n",
        "\n",
        "\n",
        "for epoch in range(Epochs):\n",
        "\n",
        "    X = np.concatenate([np.real(samples), np.imag(samples)], axis=1)\n",
        "\n",
        "    flag = 0\n",
        "    pbar = tqdm(train_channels)\n",
        "    for train_channel in pbar:\n",
        "\n",
        "        real_y = generate_real_target(samples, train_channel)\n",
        "        Y = np.concatenate([np.real(real_y), np.imag(real_y)], axis=1)\n",
        "        Channel = np.concatenate([np.real(train_channel), np.imag(train_channel)], axis=1).reshape((1, -1))\n",
        "\n",
        "        for counter in range(int(4 ** 8 / batch_size)):\n",
        "            loss_tracker.reset_states()\n",
        "            x_batch, y_batch =  X[counter * batch_size:(counter + 1) * batch_size], Y[counter * batch_size:(counter + 1) * batch_size]\n",
        "            with tf.GradientTape() as tape:\n",
        "                preds = Final_model([x_batch, Channel])\n",
        "\n",
        "                loss = loss_fn(y_batch, preds)\n",
        "                loss_tracker.update_state(loss)\n",
        "            grads = tape.gradient(loss, Final_model.trainable_weights)\n",
        "            optimizer.apply_gradients(zip(grads, Final_model.trainable_weights))\n",
        "\n",
        "        \n",
        "        Total_loss_tracker.update_state(loss_tracker.result())\n",
        "        pbar.set_description(\"Epoch : %d / %d , Training Loss %f , Loss %f\" % \\\n",
        "                             (epoch, Epochs, float(Total_loss_tracker.result()), float(loss_tracker.result())))\n",
        "    pbar.close()\n",
        "\n",
        "    #buff_loss = loss_tracker.result()\n",
        "    #Total_loss_tracker.update_state(buff_loss)\n",
        "\n",
        "    #if epoch % len(Images) == 0:\n",
        "    #   Total_All_Loss.append(float(Total_loss_tracker.result()))\n",
        "    #   Total_loss_tracker.reset_states()\n",
        "    #   \n",
        "    #   print(20 * \"*\", f\"  {epoch}  \", 20 * \"*\")\n",
        "    #   print(\"Training Loss End of Epoch: %.4f\" % (Total_All_Loss[-1],))\n",
        "    #   print(20 * \"*\", f\"  {epoch}  \", 20 * \"*\")\n",
        "       \n",
        "\n",
        "    #All_Loss.append(float(buff_loss))\n",
        "    #print(\"Training Loss End of Epoch: %.4f\" % (float(buff_loss),))\n",
        "    loss_tracker.reset_states()"
      ],
      "execution_count": null,
      "outputs": []
    },
    {
      "cell_type": "code",
      "metadata": {
        "colab": {
          "base_uri": "https://localhost:8080/",
          "height": 265
        },
        "id": "39ok05NQ7Igd",
        "outputId": "4b4ae372-2f1d-471d-f3ad-c7310fdb9aa1"
      },
      "source": [
        "_ = plt.hist(Channel.flatten(), 128)"
      ],
      "execution_count": null,
      "outputs": [
        {
          "output_type": "display_data",
          "data": {
            "image/png": "[encoded data removed]",
            "text/plain": [
              "<Figure size 432x288 with 1 Axes>"
            ]
          },
          "metadata": {
            "needs_background": "light"
          }
        }
      ]
    },
    {
      "cell_type": "code",
      "metadata": {
        "id": "zy6lZlR0PRrz"
      },
      "source": [
        ""
      ],
      "execution_count": null,
      "outputs": []
    },
    {
      "cell_type": "code",
      "metadata": {
        "id": "mrNGi1r0XD5q"
      },
      "source": [
        ""
      ],
      "execution_count": null,
      "outputs": []
    }
  ]
}